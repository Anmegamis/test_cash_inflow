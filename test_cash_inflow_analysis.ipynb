{
 "cells": [
  {
   "cell_type": "code",
   "execution_count": 192,
   "id": "847c3268",
   "metadata": {},
   "outputs": [],
   "source": [
    "import pandas as pd\n",
    "import seaborn as sns\n",
    "import matplotlib.pyplot as plt\n",
    "from matplotlib.ticker import FuncFormatter"
   ]
  },
  {
   "cell_type": "markdown",
   "id": "d770aa8d",
   "metadata": {},
   "source": [
    "## Предварительное исследование данных и предобработка"
   ]
  },
  {
   "cell_type": "markdown",
   "id": "eda34b43",
   "metadata": {},
   "source": [
    "Загружаем имеющиеся данные и смотрим на них"
   ]
  },
  {
   "cell_type": "code",
   "execution_count": 193,
   "id": "da870a12",
   "metadata": {
    "scrolled": true
   },
   "outputs": [
    {
     "data": {
      "text/html": [
       "<div>\n",
       "<style scoped>\n",
       "    .dataframe tbody tr th:only-of-type {\n",
       "        vertical-align: middle;\n",
       "    }\n",
       "\n",
       "    .dataframe tbody tr th {\n",
       "        vertical-align: top;\n",
       "    }\n",
       "\n",
       "    .dataframe thead th {\n",
       "        text-align: right;\n",
       "    }\n",
       "</style>\n",
       "<table border=\"1\" class=\"dataframe\">\n",
       "  <thead>\n",
       "    <tr style=\"text-align: right;\">\n",
       "      <th></th>\n",
       "      <th>client_id</th>\n",
       "      <th>sum</th>\n",
       "      <th>status</th>\n",
       "      <th>sale</th>\n",
       "      <th>new/current</th>\n",
       "      <th>Unnamed: 5</th>\n",
       "      <th>document</th>\n",
       "      <th>receiving_date</th>\n",
       "    </tr>\n",
       "  </thead>\n",
       "  <tbody>\n",
       "    <tr>\n",
       "      <th>0</th>\n",
       "      <td>NaN</td>\n",
       "      <td>NaN</td>\n",
       "      <td>Май 2021</td>\n",
       "      <td>NaN</td>\n",
       "      <td>NaN</td>\n",
       "      <td>NaN</td>\n",
       "      <td>NaN</td>\n",
       "      <td>NaN</td>\n",
       "    </tr>\n",
       "    <tr>\n",
       "      <th>1</th>\n",
       "      <td>6.0</td>\n",
       "      <td>11693.7</td>\n",
       "      <td>ВНУТРЕННИЙ</td>\n",
       "      <td>-</td>\n",
       "      <td>-</td>\n",
       "      <td>NaN</td>\n",
       "      <td>-</td>\n",
       "      <td>-</td>\n",
       "    </tr>\n",
       "    <tr>\n",
       "      <th>2</th>\n",
       "      <td>14.0</td>\n",
       "      <td>5452.7</td>\n",
       "      <td>ОПЛАЧЕНО</td>\n",
       "      <td>Петрова</td>\n",
       "      <td>новая</td>\n",
       "      <td>NaN</td>\n",
       "      <td>оригинал</td>\n",
       "      <td>2021-07-26 00:00:00</td>\n",
       "    </tr>\n",
       "    <tr>\n",
       "      <th>3</th>\n",
       "      <td>15.0</td>\n",
       "      <td>13991.7</td>\n",
       "      <td>ОПЛАЧЕНО</td>\n",
       "      <td>Иванов</td>\n",
       "      <td>текущая</td>\n",
       "      <td>NaN</td>\n",
       "      <td>оригинал</td>\n",
       "      <td>2021-06-08 00:00:00</td>\n",
       "    </tr>\n",
       "    <tr>\n",
       "      <th>4</th>\n",
       "      <td>16.0</td>\n",
       "      <td>719.7</td>\n",
       "      <td>ОПЛАЧЕНО</td>\n",
       "      <td>Иванов</td>\n",
       "      <td>текущая</td>\n",
       "      <td>NaN</td>\n",
       "      <td>оригинал</td>\n",
       "      <td>2021-06-08 00:00:00</td>\n",
       "    </tr>\n",
       "  </tbody>\n",
       "</table>\n",
       "</div>"
      ],
      "text/plain": [
       "   client_id      sum      status     sale new/current  Unnamed: 5  document  \\\n",
       "0        NaN      NaN    Май 2021      NaN         NaN         NaN       NaN   \n",
       "1        6.0  11693.7  ВНУТРЕННИЙ        -           -         NaN         -   \n",
       "2       14.0   5452.7    ОПЛАЧЕНО  Петрова       новая         NaN  оригинал   \n",
       "3       15.0  13991.7    ОПЛАЧЕНО   Иванов     текущая         NaN  оригинал   \n",
       "4       16.0    719.7    ОПЛАЧЕНО   Иванов     текущая         NaN  оригинал   \n",
       "\n",
       "        receiving_date  \n",
       "0                  NaN  \n",
       "1                    -  \n",
       "2  2021-07-26 00:00:00  \n",
       "3  2021-06-08 00:00:00  \n",
       "4  2021-06-08 00:00:00  "
      ]
     },
     "execution_count": 193,
     "metadata": {},
     "output_type": "execute_result"
    }
   ],
   "source": [
    "data = pd.read_excel('data.xlsx')\n",
    "data.head()"
   ]
  },
  {
   "cell_type": "code",
   "execution_count": 194,
   "id": "e2b57913",
   "metadata": {},
   "outputs": [
    {
     "data": {
      "text/plain": [
       "(730, 8)"
      ]
     },
     "execution_count": 194,
     "metadata": {},
     "output_type": "execute_result"
    }
   ],
   "source": [
    "data.shape"
   ]
  },
  {
   "cell_type": "markdown",
   "id": "6e60237a",
   "metadata": {},
   "source": [
    "Проверим есть ли какая-либо информация в столюце 'Unnamed: 5'"
   ]
  },
  {
   "cell_type": "code",
   "execution_count": 195,
   "id": "abd21539",
   "metadata": {},
   "outputs": [
    {
     "data": {
      "text/plain": [
       "730"
      ]
     },
     "execution_count": 195,
     "metadata": {},
     "output_type": "execute_result"
    }
   ],
   "source": [
    "data['Unnamed: 5'].isna().sum()"
   ]
  },
  {
   "cell_type": "markdown",
   "id": "7f49a247",
   "metadata": {},
   "source": [
    "В столбце все значения пропущенные, поэтому можно его убрать"
   ]
  },
  {
   "cell_type": "code",
   "execution_count": 196,
   "id": "e0bee258",
   "metadata": {},
   "outputs": [],
   "source": [
    "data = data.drop(columns='Unnamed: 5')"
   ]
  },
  {
   "cell_type": "markdown",
   "id": "a20d9426",
   "metadata": {},
   "source": [
    "Также у нас есть специфическая первая строка с датой в колонке status, посмотрим какие еще значения содержатся в данной колонке"
   ]
  },
  {
   "cell_type": "code",
   "execution_count": 197,
   "id": "b361efab",
   "metadata": {},
   "outputs": [
    {
     "data": {
      "text/plain": [
       "status\n",
       "ОПЛАЧЕНО         622\n",
       "ПРОСРОЧЕНО        52\n",
       "В РАБОТЕ          44\n",
       "НА ПОДПИСАНИИ      5\n",
       "Май 2021           1\n",
       "ВНУТРЕННИЙ         1\n",
       "Июнь 2021          1\n",
       "Июль 2021          1\n",
       "Август 2021        1\n",
       "Сентябрь 2021      1\n",
       "Октябрь 2021       1\n",
       "Name: count, dtype: int64"
      ]
     },
     "execution_count": 197,
     "metadata": {},
     "output_type": "execute_result"
    }
   ],
   "source": [
    "data.status.value_counts()"
   ]
  },
  {
   "cell_type": "markdown",
   "id": "d87746df",
   "metadata": {},
   "source": [
    "Некоторые строки в данной колонке содержат информацию о месяце сделок следующих за данной строкой, необходимо создать для месяца отдельную колонку"
   ]
  },
  {
   "cell_type": "code",
   "execution_count": 198,
   "id": "04eeb5c5",
   "metadata": {},
   "outputs": [
    {
     "data": {
      "text/plain": [
       "status\n",
       "ОПЛАЧЕНО         622\n",
       "ПРОСРОЧЕНО        52\n",
       "В РАБОТЕ          44\n",
       "НА ПОДПИСАНИИ      5\n",
       "ВНУТРЕННИЙ         1\n",
       "Name: count, dtype: int64"
      ]
     },
     "execution_count": 198,
     "metadata": {},
     "output_type": "execute_result"
    }
   ],
   "source": [
    "# Создаем список со всеми возможными месяцами\n",
    "months = []\n",
    "for i in data.status.value_counts().index:\n",
    "    if i.endswith('2021'):\n",
    "        months.append(i)\n",
    "        \n",
    "# Создаем новый столбец с месяцем, вносим в него значения и удаляем лишние строки        \n",
    "data['month'] = ''\n",
    "for month in months:\n",
    "    indx = data.query('status == @month').index[0]\n",
    "    data.loc[indx + 1:, 'month'] = month\n",
    "    data = data.drop(index=indx)\n",
    "                     \n",
    "# Проверяем все ли убралось\n",
    "data.status.value_counts()"
   ]
  },
  {
   "cell_type": "markdown",
   "id": "822ba8f3",
   "metadata": {},
   "source": [
    "Также проверяем новый столбец"
   ]
  },
  {
   "cell_type": "code",
   "execution_count": 199,
   "id": "a637fbc1",
   "metadata": {},
   "outputs": [
    {
     "data": {
      "text/plain": [
       "month\n",
       "Октябрь 2021     135\n",
       "Май 2021         128\n",
       "Июнь 2021        128\n",
       "Август 2021      114\n",
       "Июль 2021        110\n",
       "Сентябрь 2021    109\n",
       "Name: count, dtype: int64"
      ]
     },
     "execution_count": 199,
     "metadata": {},
     "output_type": "execute_result"
    }
   ],
   "source": [
    "data.month.value_counts()"
   ]
  },
  {
   "cell_type": "markdown",
   "id": "e23a820c",
   "metadata": {},
   "source": [
    "Отлично, идем дальше\n",
    "\n",
    "Посмотрим на описательные статистики количественных переменных"
   ]
  },
  {
   "cell_type": "code",
   "execution_count": 200,
   "id": "c3ca8256",
   "metadata": {},
   "outputs": [
    {
     "data": {
      "text/html": [
       "<div>\n",
       "<style scoped>\n",
       "    .dataframe tbody tr th:only-of-type {\n",
       "        vertical-align: middle;\n",
       "    }\n",
       "\n",
       "    .dataframe tbody tr th {\n",
       "        vertical-align: top;\n",
       "    }\n",
       "\n",
       "    .dataframe thead th {\n",
       "        text-align: right;\n",
       "    }\n",
       "</style>\n",
       "<table border=\"1\" class=\"dataframe\">\n",
       "  <thead>\n",
       "    <tr style=\"text-align: right;\">\n",
       "      <th></th>\n",
       "      <th>client_id</th>\n",
       "      <th>sum</th>\n",
       "    </tr>\n",
       "  </thead>\n",
       "  <tbody>\n",
       "    <tr>\n",
       "      <th>count</th>\n",
       "      <td>724.000000</td>\n",
       "      <td>724.000000</td>\n",
       "    </tr>\n",
       "    <tr>\n",
       "      <th>mean</th>\n",
       "      <td>183.084254</td>\n",
       "      <td>7162.542030</td>\n",
       "    </tr>\n",
       "    <tr>\n",
       "      <th>std</th>\n",
       "      <td>106.590761</td>\n",
       "      <td>6308.571297</td>\n",
       "    </tr>\n",
       "    <tr>\n",
       "      <th>min</th>\n",
       "      <td>6.000000</td>\n",
       "      <td>23.700000</td>\n",
       "    </tr>\n",
       "    <tr>\n",
       "      <th>25%</th>\n",
       "      <td>86.000000</td>\n",
       "      <td>3114.732500</td>\n",
       "    </tr>\n",
       "    <tr>\n",
       "      <th>50%</th>\n",
       "      <td>194.000000</td>\n",
       "      <td>5207.990000</td>\n",
       "    </tr>\n",
       "    <tr>\n",
       "      <th>75%</th>\n",
       "      <td>273.000000</td>\n",
       "      <td>8934.950000</td>\n",
       "    </tr>\n",
       "    <tr>\n",
       "      <th>max</th>\n",
       "      <td>398.000000</td>\n",
       "      <td>39713.500000</td>\n",
       "    </tr>\n",
       "  </tbody>\n",
       "</table>\n",
       "</div>"
      ],
      "text/plain": [
       "        client_id           sum\n",
       "count  724.000000    724.000000\n",
       "mean   183.084254   7162.542030\n",
       "std    106.590761   6308.571297\n",
       "min      6.000000     23.700000\n",
       "25%     86.000000   3114.732500\n",
       "50%    194.000000   5207.990000\n",
       "75%    273.000000   8934.950000\n",
       "max    398.000000  39713.500000"
      ]
     },
     "execution_count": 200,
     "metadata": {},
     "output_type": "execute_result"
    }
   ],
   "source": [
    "data.describe()"
   ]
  },
  {
   "cell_type": "markdown",
   "id": "7a8492e6",
   "metadata": {},
   "source": [
    "С количественными переменными все в порядке\n",
    "\n",
    "Посмотрим на значения в столбцах new/current, document"
   ]
  },
  {
   "cell_type": "code",
   "execution_count": 201,
   "id": "e7c79e52",
   "metadata": {},
   "outputs": [
    {
     "data": {
      "text/plain": [
       "new/current\n",
       "текущая    620\n",
       "новая      103\n",
       "-            1\n",
       "Name: count, dtype: int64"
      ]
     },
     "execution_count": 201,
     "metadata": {},
     "output_type": "execute_result"
    }
   ],
   "source": [
    "data['new/current'].value_counts()"
   ]
  },
  {
   "cell_type": "code",
   "execution_count": 202,
   "id": "ad8ba4bc",
   "metadata": {},
   "outputs": [
    {
     "data": {
      "text/plain": [
       "document\n",
       "оригинал    595\n",
       "НЕТ         113\n",
       "-             1\n",
       "Name: count, dtype: int64"
      ]
     },
     "execution_count": 202,
     "metadata": {},
     "output_type": "execute_result"
    }
   ],
   "source": [
    "data['document'].value_counts()"
   ]
  },
  {
   "cell_type": "markdown",
   "id": "bc2ed082",
   "metadata": {},
   "source": [
    "Одна из строчек содержит информацию о внутреннем платеже, для которого известна только сумма. Не будем учитывать данное поступление, так как не располагаем достаточной информацией"
   ]
  },
  {
   "cell_type": "code",
   "execution_count": 203,
   "id": "89ba1d6e",
   "metadata": {},
   "outputs": [],
   "source": [
    "data = data[data.status != 'ВНУТРЕННИЙ']"
   ]
  },
  {
   "cell_type": "markdown",
   "id": "1d5dffd3",
   "metadata": {},
   "source": [
    "Посмотрим, остались ли пропущенные значения"
   ]
  },
  {
   "cell_type": "code",
   "execution_count": 204,
   "id": "530c54b3",
   "metadata": {},
   "outputs": [
    {
     "data": {
      "text/plain": [
       "client_id           0\n",
       "sum                 0\n",
       "status              0\n",
       "sale                0\n",
       "new/current         0\n",
       "document           15\n",
       "receiving_date    117\n",
       "month               0\n",
       "dtype: int64"
      ]
     },
     "execution_count": 204,
     "metadata": {},
     "output_type": "execute_result"
    }
   ],
   "source": [
    "data.isna().sum()"
   ]
  },
  {
   "cell_type": "code",
   "execution_count": 205,
   "id": "510ba894",
   "metadata": {},
   "outputs": [
    {
     "data": {
      "text/html": [
       "<div>\n",
       "<style scoped>\n",
       "    .dataframe tbody tr th:only-of-type {\n",
       "        vertical-align: middle;\n",
       "    }\n",
       "\n",
       "    .dataframe tbody tr th {\n",
       "        vertical-align: top;\n",
       "    }\n",
       "\n",
       "    .dataframe thead th {\n",
       "        text-align: right;\n",
       "    }\n",
       "</style>\n",
       "<table border=\"1\" class=\"dataframe\">\n",
       "  <thead>\n",
       "    <tr style=\"text-align: right;\">\n",
       "      <th></th>\n",
       "      <th>client_id</th>\n",
       "      <th>sum</th>\n",
       "      <th>status</th>\n",
       "      <th>sale</th>\n",
       "      <th>new/current</th>\n",
       "      <th>document</th>\n",
       "      <th>receiving_date</th>\n",
       "      <th>month</th>\n",
       "    </tr>\n",
       "  </thead>\n",
       "  <tbody>\n",
       "    <tr>\n",
       "      <th>47</th>\n",
       "      <td>87.0</td>\n",
       "      <td>9948.7</td>\n",
       "      <td>ОПЛАЧЕНО</td>\n",
       "      <td>Смирнов</td>\n",
       "      <td>новая</td>\n",
       "      <td>NaN</td>\n",
       "      <td>2021-06-17 00:00:00</td>\n",
       "      <td>Май 2021</td>\n",
       "    </tr>\n",
       "    <tr>\n",
       "      <th>48</th>\n",
       "      <td>90.0</td>\n",
       "      <td>16123.7</td>\n",
       "      <td>ОПЛАЧЕНО</td>\n",
       "      <td>Смирнов</td>\n",
       "      <td>текущая</td>\n",
       "      <td>NaN</td>\n",
       "      <td>2021-07-28 00:00:00</td>\n",
       "      <td>Май 2021</td>\n",
       "    </tr>\n",
       "    <tr>\n",
       "      <th>49</th>\n",
       "      <td>91.0</td>\n",
       "      <td>1053.7</td>\n",
       "      <td>ОПЛАЧЕНО</td>\n",
       "      <td>Смирнов</td>\n",
       "      <td>текущая</td>\n",
       "      <td>NaN</td>\n",
       "      <td>2021-07-28 00:00:00</td>\n",
       "      <td>Май 2021</td>\n",
       "    </tr>\n",
       "    <tr>\n",
       "      <th>93</th>\n",
       "      <td>198.0</td>\n",
       "      <td>4458.7</td>\n",
       "      <td>ОПЛАЧЕНО</td>\n",
       "      <td>Смирнов</td>\n",
       "      <td>текущая</td>\n",
       "      <td>NaN</td>\n",
       "      <td>2021-07-01 00:00:00</td>\n",
       "      <td>Май 2021</td>\n",
       "    </tr>\n",
       "    <tr>\n",
       "      <th>189</th>\n",
       "      <td>115.0</td>\n",
       "      <td>298.7</td>\n",
       "      <td>ОПЛАЧЕНО</td>\n",
       "      <td>Андреев</td>\n",
       "      <td>текущая</td>\n",
       "      <td>NaN</td>\n",
       "      <td>2021-07-14 00:00:00</td>\n",
       "      <td>Июнь 2021</td>\n",
       "    </tr>\n",
       "    <tr>\n",
       "      <th>337</th>\n",
       "      <td>228.0</td>\n",
       "      <td>2193.7</td>\n",
       "      <td>ОПЛАЧЕНО</td>\n",
       "      <td>Смирнов</td>\n",
       "      <td>текущая</td>\n",
       "      <td>NaN</td>\n",
       "      <td>2021-10-06 00:00:00</td>\n",
       "      <td>Июль 2021</td>\n",
       "    </tr>\n",
       "    <tr>\n",
       "      <th>376</th>\n",
       "      <td>32.0</td>\n",
       "      <td>7101.7</td>\n",
       "      <td>ОПЛАЧЕНО</td>\n",
       "      <td>Филимонова</td>\n",
       "      <td>текущая</td>\n",
       "      <td>NaN</td>\n",
       "      <td>2021-10-06 00:00:00</td>\n",
       "      <td>Август 2021</td>\n",
       "    </tr>\n",
       "    <tr>\n",
       "      <th>409</th>\n",
       "      <td>90.0</td>\n",
       "      <td>8454.2</td>\n",
       "      <td>ОПЛАЧЕНО</td>\n",
       "      <td>Смирнов</td>\n",
       "      <td>текущая</td>\n",
       "      <td>NaN</td>\n",
       "      <td>2021-09-20 00:00:00</td>\n",
       "      <td>Август 2021</td>\n",
       "    </tr>\n",
       "    <tr>\n",
       "      <th>453</th>\n",
       "      <td>339.0</td>\n",
       "      <td>7553.7</td>\n",
       "      <td>ОПЛАЧЕНО</td>\n",
       "      <td>Петрова</td>\n",
       "      <td>новая</td>\n",
       "      <td>NaN</td>\n",
       "      <td>2021-10-11 00:00:00</td>\n",
       "      <td>Август 2021</td>\n",
       "    </tr>\n",
       "    <tr>\n",
       "      <th>459</th>\n",
       "      <td>256.0</td>\n",
       "      <td>2351.2</td>\n",
       "      <td>ОПЛАЧЕНО</td>\n",
       "      <td>Филимонова</td>\n",
       "      <td>текущая</td>\n",
       "      <td>NaN</td>\n",
       "      <td>NaN</td>\n",
       "      <td>Август 2021</td>\n",
       "    </tr>\n",
       "    <tr>\n",
       "      <th>488</th>\n",
       "      <td>24.0</td>\n",
       "      <td>18142.7</td>\n",
       "      <td>ОПЛАЧЕНО</td>\n",
       "      <td>Андреев</td>\n",
       "      <td>текущая</td>\n",
       "      <td>NaN</td>\n",
       "      <td>2021-10-15 00:00:00</td>\n",
       "      <td>Сентябрь 2021</td>\n",
       "    </tr>\n",
       "    <tr>\n",
       "      <th>489</th>\n",
       "      <td>30.0</td>\n",
       "      <td>3833.7</td>\n",
       "      <td>В РАБОТЕ</td>\n",
       "      <td>Филимонова</td>\n",
       "      <td>текущая</td>\n",
       "      <td>NaN</td>\n",
       "      <td>NaN</td>\n",
       "      <td>Сентябрь 2021</td>\n",
       "    </tr>\n",
       "    <tr>\n",
       "      <th>513</th>\n",
       "      <td>329.0</td>\n",
       "      <td>5353.7</td>\n",
       "      <td>ОПЛАЧЕНО</td>\n",
       "      <td>Андреев</td>\n",
       "      <td>текущая</td>\n",
       "      <td>NaN</td>\n",
       "      <td>2021-10-11 00:00:00</td>\n",
       "      <td>Сентябрь 2021</td>\n",
       "    </tr>\n",
       "    <tr>\n",
       "      <th>689</th>\n",
       "      <td>228.0</td>\n",
       "      <td>6393.7</td>\n",
       "      <td>ОПЛАЧЕНО</td>\n",
       "      <td>Смирнов</td>\n",
       "      <td>текущая</td>\n",
       "      <td>NaN</td>\n",
       "      <td>NaN</td>\n",
       "      <td>Октябрь 2021</td>\n",
       "    </tr>\n",
       "    <tr>\n",
       "      <th>690</th>\n",
       "      <td>228.0</td>\n",
       "      <td>1603.7</td>\n",
       "      <td>ОПЛАЧЕНО</td>\n",
       "      <td>Смирнов</td>\n",
       "      <td>текущая</td>\n",
       "      <td>NaN</td>\n",
       "      <td>NaN</td>\n",
       "      <td>Октябрь 2021</td>\n",
       "    </tr>\n",
       "  </tbody>\n",
       "</table>\n",
       "</div>"
      ],
      "text/plain": [
       "     client_id      sum    status        sale new/current document  \\\n",
       "47        87.0   9948.7  ОПЛАЧЕНО     Смирнов       новая      NaN   \n",
       "48        90.0  16123.7  ОПЛАЧЕНО     Смирнов     текущая      NaN   \n",
       "49        91.0   1053.7  ОПЛАЧЕНО     Смирнов     текущая      NaN   \n",
       "93       198.0   4458.7  ОПЛАЧЕНО     Смирнов     текущая      NaN   \n",
       "189      115.0    298.7  ОПЛАЧЕНО     Андреев     текущая      NaN   \n",
       "337      228.0   2193.7  ОПЛАЧЕНО     Смирнов     текущая      NaN   \n",
       "376       32.0   7101.7  ОПЛАЧЕНО  Филимонова     текущая      NaN   \n",
       "409       90.0   8454.2  ОПЛАЧЕНО     Смирнов     текущая      NaN   \n",
       "453      339.0   7553.7  ОПЛАЧЕНО     Петрова       новая      NaN   \n",
       "459      256.0   2351.2  ОПЛАЧЕНО  Филимонова     текущая      NaN   \n",
       "488       24.0  18142.7  ОПЛАЧЕНО     Андреев     текущая      NaN   \n",
       "489       30.0   3833.7  В РАБОТЕ  Филимонова     текущая      NaN   \n",
       "513      329.0   5353.7  ОПЛАЧЕНО     Андреев     текущая      NaN   \n",
       "689      228.0   6393.7  ОПЛАЧЕНО     Смирнов     текущая      NaN   \n",
       "690      228.0   1603.7  ОПЛАЧЕНО     Смирнов     текущая      NaN   \n",
       "\n",
       "          receiving_date          month  \n",
       "47   2021-06-17 00:00:00       Май 2021  \n",
       "48   2021-07-28 00:00:00       Май 2021  \n",
       "49   2021-07-28 00:00:00       Май 2021  \n",
       "93   2021-07-01 00:00:00       Май 2021  \n",
       "189  2021-07-14 00:00:00      Июнь 2021  \n",
       "337  2021-10-06 00:00:00      Июль 2021  \n",
       "376  2021-10-06 00:00:00    Август 2021  \n",
       "409  2021-09-20 00:00:00    Август 2021  \n",
       "453  2021-10-11 00:00:00    Август 2021  \n",
       "459                  NaN    Август 2021  \n",
       "488  2021-10-15 00:00:00  Сентябрь 2021  \n",
       "489                  NaN  Сентябрь 2021  \n",
       "513  2021-10-11 00:00:00  Сентябрь 2021  \n",
       "689                  NaN   Октябрь 2021  \n",
       "690                  NaN   Октябрь 2021  "
      ]
     },
     "execution_count": 205,
     "metadata": {},
     "output_type": "execute_result"
    }
   ],
   "source": [
    "data[data.document.isna()]"
   ]
  },
  {
   "cell_type": "code",
   "execution_count": 206,
   "id": "43ebde26",
   "metadata": {},
   "outputs": [
    {
     "data": {
      "text/html": [
       "<div>\n",
       "<style scoped>\n",
       "    .dataframe tbody tr th:only-of-type {\n",
       "        vertical-align: middle;\n",
       "    }\n",
       "\n",
       "    .dataframe tbody tr th {\n",
       "        vertical-align: top;\n",
       "    }\n",
       "\n",
       "    .dataframe thead th {\n",
       "        text-align: right;\n",
       "    }\n",
       "</style>\n",
       "<table border=\"1\" class=\"dataframe\">\n",
       "  <thead>\n",
       "    <tr style=\"text-align: right;\">\n",
       "      <th></th>\n",
       "      <th>client_id</th>\n",
       "      <th>sum</th>\n",
       "      <th>status</th>\n",
       "      <th>sale</th>\n",
       "      <th>new/current</th>\n",
       "      <th>document</th>\n",
       "      <th>receiving_date</th>\n",
       "      <th>month</th>\n",
       "    </tr>\n",
       "  </thead>\n",
       "  <tbody>\n",
       "    <tr>\n",
       "      <th>248</th>\n",
       "      <td>266.0</td>\n",
       "      <td>3363.7</td>\n",
       "      <td>ОПЛАЧЕНО</td>\n",
       "      <td>Петрова</td>\n",
       "      <td>текущая</td>\n",
       "      <td>НЕТ</td>\n",
       "      <td>NaN</td>\n",
       "      <td>Июнь 2021</td>\n",
       "    </tr>\n",
       "    <tr>\n",
       "      <th>261</th>\n",
       "      <td>18.0</td>\n",
       "      <td>2996.7</td>\n",
       "      <td>ОПЛАЧЕНО</td>\n",
       "      <td>Иванов</td>\n",
       "      <td>текущая</td>\n",
       "      <td>НЕТ</td>\n",
       "      <td>NaN</td>\n",
       "      <td>Июль 2021</td>\n",
       "    </tr>\n",
       "    <tr>\n",
       "      <th>358</th>\n",
       "      <td>266.0</td>\n",
       "      <td>3363.7</td>\n",
       "      <td>ОПЛАЧЕНО</td>\n",
       "      <td>Петрова</td>\n",
       "      <td>текущая</td>\n",
       "      <td>НЕТ</td>\n",
       "      <td>NaN</td>\n",
       "      <td>Июль 2021</td>\n",
       "    </tr>\n",
       "    <tr>\n",
       "      <th>366</th>\n",
       "      <td>284.0</td>\n",
       "      <td>1977.7</td>\n",
       "      <td>ПРОСРОЧЕНО</td>\n",
       "      <td>Филимонова</td>\n",
       "      <td>текущая</td>\n",
       "      <td>НЕТ</td>\n",
       "      <td>NaN</td>\n",
       "      <td>Июль 2021</td>\n",
       "    </tr>\n",
       "    <tr>\n",
       "      <th>381</th>\n",
       "      <td>322.0</td>\n",
       "      <td>19953.7</td>\n",
       "      <td>ПРОСРОЧЕНО</td>\n",
       "      <td>Филимонова</td>\n",
       "      <td>текущая</td>\n",
       "      <td>НЕТ</td>\n",
       "      <td>NaN</td>\n",
       "      <td>Август 2021</td>\n",
       "    </tr>\n",
       "    <tr>\n",
       "      <th>383</th>\n",
       "      <td>323.0</td>\n",
       "      <td>19953.7</td>\n",
       "      <td>ПРОСРОЧЕНО</td>\n",
       "      <td>Филимонова</td>\n",
       "      <td>текущая</td>\n",
       "      <td>НЕТ</td>\n",
       "      <td>NaN</td>\n",
       "      <td>Август 2021</td>\n",
       "    </tr>\n",
       "    <tr>\n",
       "      <th>427</th>\n",
       "      <td>175.0</td>\n",
       "      <td>5678.7</td>\n",
       "      <td>ПРОСРОЧЕНО</td>\n",
       "      <td>Андреев</td>\n",
       "      <td>текущая</td>\n",
       "      <td>НЕТ</td>\n",
       "      <td>NaN</td>\n",
       "      <td>Август 2021</td>\n",
       "    </tr>\n",
       "    <tr>\n",
       "      <th>459</th>\n",
       "      <td>256.0</td>\n",
       "      <td>2351.2</td>\n",
       "      <td>ОПЛАЧЕНО</td>\n",
       "      <td>Филимонова</td>\n",
       "      <td>текущая</td>\n",
       "      <td>NaN</td>\n",
       "      <td>NaN</td>\n",
       "      <td>Август 2021</td>\n",
       "    </tr>\n",
       "    <tr>\n",
       "      <th>460</th>\n",
       "      <td>256.0</td>\n",
       "      <td>1966.2</td>\n",
       "      <td>ПРОСРОЧЕНО</td>\n",
       "      <td>Филимонова</td>\n",
       "      <td>текущая</td>\n",
       "      <td>НЕТ</td>\n",
       "      <td>NaN</td>\n",
       "      <td>Август 2021</td>\n",
       "    </tr>\n",
       "    <tr>\n",
       "      <th>468</th>\n",
       "      <td>266.0</td>\n",
       "      <td>3453.7</td>\n",
       "      <td>ОПЛАЧЕНО</td>\n",
       "      <td>Петрова</td>\n",
       "      <td>текущая</td>\n",
       "      <td>НЕТ</td>\n",
       "      <td>NaN</td>\n",
       "      <td>Август 2021</td>\n",
       "    </tr>\n",
       "  </tbody>\n",
       "</table>\n",
       "</div>"
      ],
      "text/plain": [
       "     client_id      sum      status        sale new/current document  \\\n",
       "248      266.0   3363.7    ОПЛАЧЕНО     Петрова     текущая      НЕТ   \n",
       "261       18.0   2996.7    ОПЛАЧЕНО      Иванов     текущая      НЕТ   \n",
       "358      266.0   3363.7    ОПЛАЧЕНО     Петрова     текущая      НЕТ   \n",
       "366      284.0   1977.7  ПРОСРОЧЕНО  Филимонова     текущая      НЕТ   \n",
       "381      322.0  19953.7  ПРОСРОЧЕНО  Филимонова     текущая      НЕТ   \n",
       "383      323.0  19953.7  ПРОСРОЧЕНО  Филимонова     текущая      НЕТ   \n",
       "427      175.0   5678.7  ПРОСРОЧЕНО     Андреев     текущая      НЕТ   \n",
       "459      256.0   2351.2    ОПЛАЧЕНО  Филимонова     текущая      NaN   \n",
       "460      256.0   1966.2  ПРОСРОЧЕНО  Филимонова     текущая      НЕТ   \n",
       "468      266.0   3453.7    ОПЛАЧЕНО     Петрова     текущая      НЕТ   \n",
       "\n",
       "    receiving_date        month  \n",
       "248            NaN    Июнь 2021  \n",
       "261            NaN    Июль 2021  \n",
       "358            NaN    Июль 2021  \n",
       "366            NaN    Июль 2021  \n",
       "381            NaN  Август 2021  \n",
       "383            NaN  Август 2021  \n",
       "427            NaN  Август 2021  \n",
       "459            NaN  Август 2021  \n",
       "460            NaN  Август 2021  \n",
       "468            NaN  Август 2021  "
      ]
     },
     "execution_count": 206,
     "metadata": {},
     "output_type": "execute_result"
    }
   ],
   "source": [
    "data[data.receiving_date.isna()].head(10)"
   ]
  },
  {
   "cell_type": "code",
   "execution_count": 207,
   "id": "048cbe92",
   "metadata": {},
   "outputs": [
    {
     "data": {
      "text/html": [
       "<div>\n",
       "<style scoped>\n",
       "    .dataframe tbody tr th:only-of-type {\n",
       "        vertical-align: middle;\n",
       "    }\n",
       "\n",
       "    .dataframe tbody tr th {\n",
       "        vertical-align: top;\n",
       "    }\n",
       "\n",
       "    .dataframe thead th {\n",
       "        text-align: right;\n",
       "    }\n",
       "</style>\n",
       "<table border=\"1\" class=\"dataframe\">\n",
       "  <thead>\n",
       "    <tr style=\"text-align: right;\">\n",
       "      <th></th>\n",
       "      <th>client_id</th>\n",
       "      <th>sum</th>\n",
       "      <th>status</th>\n",
       "      <th>sale</th>\n",
       "      <th>new/current</th>\n",
       "      <th>document</th>\n",
       "      <th>receiving_date</th>\n",
       "      <th>month</th>\n",
       "    </tr>\n",
       "  </thead>\n",
       "  <tbody>\n",
       "  </tbody>\n",
       "</table>\n",
       "</div>"
      ],
      "text/plain": [
       "Empty DataFrame\n",
       "Columns: [client_id, sum, status, sale, new/current, document, receiving_date, month]\n",
       "Index: []"
      ]
     },
     "execution_count": 207,
     "metadata": {},
     "output_type": "execute_result"
    }
   ],
   "source": [
    "data.query('document == \"оригинал\" and receiving_date.isna()')"
   ]
  },
  {
   "cell_type": "markdown",
   "id": "b0d4356a",
   "metadata": {},
   "source": [
    "Пропущенное значение в receiving_date возникает только в случае отсутствия оригинала договора, что логично, значит здесь проблем нет. Однако, существуют случае когда дата получения оригинала отображается, но в сстолбце с наличием оригинала стоит пропущенное значение, что может быть связано с ошибкой в заполнении данных. В Нашем случае наличие оригинала договора не имеет значения, поэтому не будем убирать данные строки из анализа, но необходимо обратить внимание на данный недочет в данных.\n",
    "\n",
    "Далее посмотрим на наличие дубликатов в данных"
   ]
  },
  {
   "cell_type": "code",
   "execution_count": 208,
   "id": "f186749d",
   "metadata": {},
   "outputs": [
    {
     "data": {
      "text/html": [
       "<div>\n",
       "<style scoped>\n",
       "    .dataframe tbody tr th:only-of-type {\n",
       "        vertical-align: middle;\n",
       "    }\n",
       "\n",
       "    .dataframe tbody tr th {\n",
       "        vertical-align: top;\n",
       "    }\n",
       "\n",
       "    .dataframe thead th {\n",
       "        text-align: right;\n",
       "    }\n",
       "</style>\n",
       "<table border=\"1\" class=\"dataframe\">\n",
       "  <thead>\n",
       "    <tr style=\"text-align: right;\">\n",
       "      <th></th>\n",
       "      <th>client_id</th>\n",
       "      <th>sum</th>\n",
       "      <th>status</th>\n",
       "      <th>sale</th>\n",
       "      <th>new/current</th>\n",
       "      <th>document</th>\n",
       "      <th>receiving_date</th>\n",
       "      <th>month</th>\n",
       "    </tr>\n",
       "  </thead>\n",
       "  <tbody>\n",
       "    <tr>\n",
       "      <th>19</th>\n",
       "      <td>43.0</td>\n",
       "      <td>1961.2</td>\n",
       "      <td>ОПЛАЧЕНО</td>\n",
       "      <td>Селиванов</td>\n",
       "      <td>текущая</td>\n",
       "      <td>оригинал</td>\n",
       "      <td>2021-07-27 00:00:00</td>\n",
       "      <td>Май 2021</td>\n",
       "    </tr>\n",
       "    <tr>\n",
       "      <th>53</th>\n",
       "      <td>96.0</td>\n",
       "      <td>1266.2</td>\n",
       "      <td>ОПЛАЧЕНО</td>\n",
       "      <td>Васильев</td>\n",
       "      <td>текущая</td>\n",
       "      <td>оригинал</td>\n",
       "      <td>2021-07-16 00:00:00</td>\n",
       "      <td>Май 2021</td>\n",
       "    </tr>\n",
       "    <tr>\n",
       "      <th>98</th>\n",
       "      <td>204.0</td>\n",
       "      <td>1473.7</td>\n",
       "      <td>ОПЛАЧЕНО</td>\n",
       "      <td>Андреев</td>\n",
       "      <td>текущая</td>\n",
       "      <td>оригинал</td>\n",
       "      <td>2021-07-01 00:00:00</td>\n",
       "      <td>Май 2021</td>\n",
       "    </tr>\n",
       "    <tr>\n",
       "      <th>180</th>\n",
       "      <td>97.0</td>\n",
       "      <td>1506.2</td>\n",
       "      <td>ОПЛАЧЕНО</td>\n",
       "      <td>Васильев</td>\n",
       "      <td>текущая</td>\n",
       "      <td>оригинал</td>\n",
       "      <td>2021-09-01 00:00:00</td>\n",
       "      <td>Июнь 2021</td>\n",
       "    </tr>\n",
       "    <tr>\n",
       "      <th>224</th>\n",
       "      <td>204.0</td>\n",
       "      <td>1523.7</td>\n",
       "      <td>ОПЛАЧЕНО</td>\n",
       "      <td>Андреев</td>\n",
       "      <td>текущая</td>\n",
       "      <td>оригинал</td>\n",
       "      <td>2021-07-21 00:00:00</td>\n",
       "      <td>Июнь 2021</td>\n",
       "    </tr>\n",
       "    <tr>\n",
       "      <th>275</th>\n",
       "      <td>311.0</td>\n",
       "      <td>2063.7</td>\n",
       "      <td>ОПЛАЧЕНО</td>\n",
       "      <td>Соколов</td>\n",
       "      <td>текущая</td>\n",
       "      <td>оригинал</td>\n",
       "      <td>2021-09-28 00:00:00</td>\n",
       "      <td>Июль 2021</td>\n",
       "    </tr>\n",
       "    <tr>\n",
       "      <th>332</th>\n",
       "      <td>204.0</td>\n",
       "      <td>1611.2</td>\n",
       "      <td>ОПЛАЧЕНО</td>\n",
       "      <td>Андреев</td>\n",
       "      <td>текущая</td>\n",
       "      <td>оригинал</td>\n",
       "      <td>2021-08-20 00:00:00</td>\n",
       "      <td>Июль 2021</td>\n",
       "    </tr>\n",
       "    <tr>\n",
       "      <th>351</th>\n",
       "      <td>319.0</td>\n",
       "      <td>4208.7</td>\n",
       "      <td>ОПЛАЧЕНО</td>\n",
       "      <td>Васильев</td>\n",
       "      <td>новая</td>\n",
       "      <td>оригинал</td>\n",
       "      <td>2021-09-21 00:00:00</td>\n",
       "      <td>Июль 2021</td>\n",
       "    </tr>\n",
       "    <tr>\n",
       "      <th>442</th>\n",
       "      <td>204.0</td>\n",
       "      <td>1611.2</td>\n",
       "      <td>ОПЛАЧЕНО</td>\n",
       "      <td>Андреев</td>\n",
       "      <td>текущая</td>\n",
       "      <td>оригинал</td>\n",
       "      <td>2021-09-16 00:00:00</td>\n",
       "      <td>Август 2021</td>\n",
       "    </tr>\n",
       "    <tr>\n",
       "      <th>462</th>\n",
       "      <td>319.0</td>\n",
       "      <td>4561.2</td>\n",
       "      <td>ОПЛАЧЕНО</td>\n",
       "      <td>Васильев</td>\n",
       "      <td>текущая</td>\n",
       "      <td>оригинал</td>\n",
       "      <td>2021-10-21 00:00:00</td>\n",
       "      <td>Август 2021</td>\n",
       "    </tr>\n",
       "    <tr>\n",
       "      <th>552</th>\n",
       "      <td>204.0</td>\n",
       "      <td>1006.2</td>\n",
       "      <td>ОПЛАЧЕНО</td>\n",
       "      <td>Андреев</td>\n",
       "      <td>текущая</td>\n",
       "      <td>оригинал</td>\n",
       "      <td>2021-10-21 00:00:00</td>\n",
       "      <td>Сентябрь 2021</td>\n",
       "    </tr>\n",
       "    <tr>\n",
       "      <th>569</th>\n",
       "      <td>246.0</td>\n",
       "      <td>853.7</td>\n",
       "      <td>ОПЛАЧЕНО</td>\n",
       "      <td>Смирнов</td>\n",
       "      <td>текущая</td>\n",
       "      <td>оригинал</td>\n",
       "      <td>2021-10-15 00:00:00</td>\n",
       "      <td>Сентябрь 2021</td>\n",
       "    </tr>\n",
       "    <tr>\n",
       "      <th>648</th>\n",
       "      <td>364.0</td>\n",
       "      <td>31078.7</td>\n",
       "      <td>ОПЛАЧЕНО</td>\n",
       "      <td>Михайлов</td>\n",
       "      <td>новая</td>\n",
       "      <td>НЕТ</td>\n",
       "      <td>NaN</td>\n",
       "      <td>Октябрь 2021</td>\n",
       "    </tr>\n",
       "    <tr>\n",
       "      <th>680</th>\n",
       "      <td>204.0</td>\n",
       "      <td>1006.2</td>\n",
       "      <td>ОПЛАЧЕНО</td>\n",
       "      <td>Андреев</td>\n",
       "      <td>текущая</td>\n",
       "      <td>НЕТ</td>\n",
       "      <td>NaN</td>\n",
       "      <td>Октябрь 2021</td>\n",
       "    </tr>\n",
       "  </tbody>\n",
       "</table>\n",
       "</div>"
      ],
      "text/plain": [
       "     client_id      sum    status       sale new/current  document  \\\n",
       "19        43.0   1961.2  ОПЛАЧЕНО  Селиванов     текущая  оригинал   \n",
       "53        96.0   1266.2  ОПЛАЧЕНО   Васильев     текущая  оригинал   \n",
       "98       204.0   1473.7  ОПЛАЧЕНО    Андреев     текущая  оригинал   \n",
       "180       97.0   1506.2  ОПЛАЧЕНО   Васильев     текущая  оригинал   \n",
       "224      204.0   1523.7  ОПЛАЧЕНО    Андреев     текущая  оригинал   \n",
       "275      311.0   2063.7  ОПЛАЧЕНО    Соколов     текущая  оригинал   \n",
       "332      204.0   1611.2  ОПЛАЧЕНО    Андреев     текущая  оригинал   \n",
       "351      319.0   4208.7  ОПЛАЧЕНО   Васильев       новая  оригинал   \n",
       "442      204.0   1611.2  ОПЛАЧЕНО    Андреев     текущая  оригинал   \n",
       "462      319.0   4561.2  ОПЛАЧЕНО   Васильев     текущая  оригинал   \n",
       "552      204.0   1006.2  ОПЛАЧЕНО    Андреев     текущая  оригинал   \n",
       "569      246.0    853.7  ОПЛАЧЕНО    Смирнов     текущая  оригинал   \n",
       "648      364.0  31078.7  ОПЛАЧЕНО   Михайлов       новая       НЕТ   \n",
       "680      204.0   1006.2  ОПЛАЧЕНО    Андреев     текущая       НЕТ   \n",
       "\n",
       "          receiving_date          month  \n",
       "19   2021-07-27 00:00:00       Май 2021  \n",
       "53   2021-07-16 00:00:00       Май 2021  \n",
       "98   2021-07-01 00:00:00       Май 2021  \n",
       "180  2021-09-01 00:00:00      Июнь 2021  \n",
       "224  2021-07-21 00:00:00      Июнь 2021  \n",
       "275  2021-09-28 00:00:00      Июль 2021  \n",
       "332  2021-08-20 00:00:00      Июль 2021  \n",
       "351  2021-09-21 00:00:00      Июль 2021  \n",
       "442  2021-09-16 00:00:00    Август 2021  \n",
       "462  2021-10-21 00:00:00    Август 2021  \n",
       "552  2021-10-21 00:00:00  Сентябрь 2021  \n",
       "569  2021-10-15 00:00:00  Сентябрь 2021  \n",
       "648                  NaN   Октябрь 2021  \n",
       "680                  NaN   Октябрь 2021  "
      ]
     },
     "execution_count": 208,
     "metadata": {},
     "output_type": "execute_result"
    }
   ],
   "source": [
    "data[data.duplicated()]"
   ]
  },
  {
   "cell_type": "markdown",
   "id": "c3462432",
   "metadata": {},
   "source": [
    "В данных присутствует достаточно много дубликатов, необходимо от них избавиться. Также посмотрим сразу на типы данных, чтобы понять все ли с нимим хорошо"
   ]
  },
  {
   "cell_type": "code",
   "execution_count": 209,
   "id": "9eaf649d",
   "metadata": {},
   "outputs": [
    {
     "data": {
      "text/plain": [
       "client_id         float64\n",
       "sum               float64\n",
       "status             object\n",
       "sale               object\n",
       "new/current        object\n",
       "document           object\n",
       "receiving_date     object\n",
       "month              object\n",
       "dtype: object"
      ]
     },
     "execution_count": 209,
     "metadata": {},
     "output_type": "execute_result"
    }
   ],
   "source": [
    "data = data.drop_duplicates()\n",
    "data.dtypes"
   ]
  },
  {
   "cell_type": "markdown",
   "id": "d31a7e74",
   "metadata": {},
   "source": [
    "Необходимо поменять тип данных для даты, чтобы в дальнейшем можно было с ней работать.\n",
    "И посмотрим на итоговую таблицу"
   ]
  },
  {
   "cell_type": "code",
   "execution_count": 210,
   "id": "eca4773d",
   "metadata": {},
   "outputs": [
    {
     "data": {
      "text/html": [
       "<div>\n",
       "<style scoped>\n",
       "    .dataframe tbody tr th:only-of-type {\n",
       "        vertical-align: middle;\n",
       "    }\n",
       "\n",
       "    .dataframe tbody tr th {\n",
       "        vertical-align: top;\n",
       "    }\n",
       "\n",
       "    .dataframe thead th {\n",
       "        text-align: right;\n",
       "    }\n",
       "</style>\n",
       "<table border=\"1\" class=\"dataframe\">\n",
       "  <thead>\n",
       "    <tr style=\"text-align: right;\">\n",
       "      <th></th>\n",
       "      <th>client_id</th>\n",
       "      <th>sum</th>\n",
       "      <th>status</th>\n",
       "      <th>sale</th>\n",
       "      <th>new/current</th>\n",
       "      <th>document</th>\n",
       "      <th>receiving_date</th>\n",
       "      <th>month</th>\n",
       "    </tr>\n",
       "  </thead>\n",
       "  <tbody>\n",
       "    <tr>\n",
       "      <th>2</th>\n",
       "      <td>14.0</td>\n",
       "      <td>5452.7</td>\n",
       "      <td>ОПЛАЧЕНО</td>\n",
       "      <td>Петрова</td>\n",
       "      <td>новая</td>\n",
       "      <td>оригинал</td>\n",
       "      <td>2021-07-26</td>\n",
       "      <td>Май 2021</td>\n",
       "    </tr>\n",
       "    <tr>\n",
       "      <th>3</th>\n",
       "      <td>15.0</td>\n",
       "      <td>13991.7</td>\n",
       "      <td>ОПЛАЧЕНО</td>\n",
       "      <td>Иванов</td>\n",
       "      <td>текущая</td>\n",
       "      <td>оригинал</td>\n",
       "      <td>2021-06-08</td>\n",
       "      <td>Май 2021</td>\n",
       "    </tr>\n",
       "    <tr>\n",
       "      <th>4</th>\n",
       "      <td>16.0</td>\n",
       "      <td>719.7</td>\n",
       "      <td>ОПЛАЧЕНО</td>\n",
       "      <td>Иванов</td>\n",
       "      <td>текущая</td>\n",
       "      <td>оригинал</td>\n",
       "      <td>2021-06-08</td>\n",
       "      <td>Май 2021</td>\n",
       "    </tr>\n",
       "    <tr>\n",
       "      <th>5</th>\n",
       "      <td>18.0</td>\n",
       "      <td>4253.7</td>\n",
       "      <td>ОПЛАЧЕНО</td>\n",
       "      <td>Иванов</td>\n",
       "      <td>текущая</td>\n",
       "      <td>оригинал</td>\n",
       "      <td>2021-07-07</td>\n",
       "      <td>Май 2021</td>\n",
       "    </tr>\n",
       "    <tr>\n",
       "      <th>6</th>\n",
       "      <td>20.0</td>\n",
       "      <td>5796.7</td>\n",
       "      <td>ОПЛАЧЕНО</td>\n",
       "      <td>Кузнецова</td>\n",
       "      <td>текущая</td>\n",
       "      <td>оригинал</td>\n",
       "      <td>2021-07-15</td>\n",
       "      <td>Май 2021</td>\n",
       "    </tr>\n",
       "  </tbody>\n",
       "</table>\n",
       "</div>"
      ],
      "text/plain": [
       "   client_id      sum    status       sale new/current  document  \\\n",
       "2       14.0   5452.7  ОПЛАЧЕНО    Петрова       новая  оригинал   \n",
       "3       15.0  13991.7  ОПЛАЧЕНО     Иванов     текущая  оригинал   \n",
       "4       16.0    719.7  ОПЛАЧЕНО     Иванов     текущая  оригинал   \n",
       "5       18.0   4253.7  ОПЛАЧЕНО     Иванов     текущая  оригинал   \n",
       "6       20.0   5796.7  ОПЛАЧЕНО  Кузнецова     текущая  оригинал   \n",
       "\n",
       "  receiving_date     month  \n",
       "2     2021-07-26  Май 2021  \n",
       "3     2021-06-08  Май 2021  \n",
       "4     2021-06-08  Май 2021  \n",
       "5     2021-07-07  Май 2021  \n",
       "6     2021-07-15  Май 2021  "
      ]
     },
     "execution_count": 210,
     "metadata": {},
     "output_type": "execute_result"
    }
   ],
   "source": [
    "data['receiving_date'] = pd.to_datetime(data.receiving_date)\n",
    "data.head()"
   ]
  },
  {
   "cell_type": "markdown",
   "id": "2ee2b2a8",
   "metadata": {},
   "source": [
    "В остальном с данными все хорошо, переходим к вопросам и заданиям"
   ]
  },
  {
   "cell_type": "markdown",
   "id": "faebc9de",
   "metadata": {},
   "source": [
    "## Вопросы\n",
    "\n",
    "1) Вычислите общую выручку за июль 2021 по тем сделкам, приход денежных средств которых не просрочен."
   ]
  },
  {
   "cell_type": "code",
   "execution_count": 211,
   "id": "6b1e5ef8",
   "metadata": {},
   "outputs": [
    {
     "name": "stdout",
     "output_type": "stream",
     "text": [
      " Общая выручка за июль = 852012.87\n"
     ]
    }
   ],
   "source": [
    "sum_jul = round(data.query('month == \"Июль 2021\" and status != \"ПРОСРОЧЕНО\"')['sum'].sum(), 2)\n",
    "print(f\" Общая выручка за июль = {sum_jul}\")"
   ]
  },
  {
   "cell_type": "markdown",
   "id": "a0710e29",
   "metadata": {},
   "source": [
    "2) Как изменялась выручка компании за рассматриваемый период? Проиллюстрируйте графиком.\n",
    "\n",
    "Так как данная таблица содержит данные по поступлению денежных средств, будем считать что средства по любому статусу поступили и соответственно составляют выручку"
   ]
  },
  {
   "cell_type": "code",
   "execution_count": 212,
   "id": "37f93a7b",
   "metadata": {},
   "outputs": [
    {
     "data": {
      "image/png": "[encoded data removed]",
      "text/plain": [
       "<Figure size 720x360 with 1 Axes>"
      ]
     },
     "metadata": {
      "needs_background": "light"
     },
     "output_type": "display_data"
    }
   ],
   "source": [
    "plt.figure(figsize=(10, 5))\n",
    "sns.lineplot(data \\\n",
    "    .groupby('month') \\\n",
    "    .agg({'sum': 'sum'}) \\\n",
    "    .reindex(['Май 2021', 'Июнь 2021', 'Июль 2021', 'Август 2021', 'Сентябрь 2021', 'Октябрь 2021']), legend=False)\n",
    "plt.xlabel('Месяц')\n",
    "plt.ylabel('Выручка в тыс.')\n",
    "formatter = FuncFormatter(lambda x, _: '{:,.0f}'.format(x/1000))\n",
    "plt.gca().yaxis.set_major_formatter(formatter)"
   ]
  },
  {
   "cell_type": "markdown",
   "id": "6384ae6e",
   "metadata": {},
   "source": [
    "Выручка росла с мая по июль, затем до сентября наблюдается снижение, а в октябре большой скачок"
   ]
  },
  {
   "cell_type": "markdown",
   "id": "72eb53bd",
   "metadata": {},
   "source": [
    "3) Кто из менеджеров привлек для компании больше всего денежных средств в сентябре 2021?"
   ]
  },
  {
   "cell_type": "code",
   "execution_count": 213,
   "id": "79fe957f",
   "metadata": {},
   "outputs": [
    {
     "data": {
      "text/html": [
       "<div>\n",
       "<style scoped>\n",
       "    .dataframe tbody tr th:only-of-type {\n",
       "        vertical-align: middle;\n",
       "    }\n",
       "\n",
       "    .dataframe tbody tr th {\n",
       "        vertical-align: top;\n",
       "    }\n",
       "\n",
       "    .dataframe thead th {\n",
       "        text-align: right;\n",
       "    }\n",
       "</style>\n",
       "<table border=\"1\" class=\"dataframe\">\n",
       "  <thead>\n",
       "    <tr style=\"text-align: right;\">\n",
       "      <th></th>\n",
       "      <th>sum</th>\n",
       "    </tr>\n",
       "    <tr>\n",
       "      <th>sale</th>\n",
       "      <th></th>\n",
       "    </tr>\n",
       "  </thead>\n",
       "  <tbody>\n",
       "    <tr>\n",
       "      <th>Смирнов</th>\n",
       "      <td>220672.00</td>\n",
       "    </tr>\n",
       "    <tr>\n",
       "      <th>Петрова</th>\n",
       "      <td>149344.46</td>\n",
       "    </tr>\n",
       "    <tr>\n",
       "      <th>Андреев</th>\n",
       "      <td>132646.30</td>\n",
       "    </tr>\n",
       "    <tr>\n",
       "      <th>Иванов</th>\n",
       "      <td>94770.60</td>\n",
       "    </tr>\n",
       "    <tr>\n",
       "      <th>Кузнецова</th>\n",
       "      <td>72228.40</td>\n",
       "    </tr>\n",
       "    <tr>\n",
       "      <th>Филимонова</th>\n",
       "      <td>59514.47</td>\n",
       "    </tr>\n",
       "    <tr>\n",
       "      <th>Васильев</th>\n",
       "      <td>49895.45</td>\n",
       "    </tr>\n",
       "    <tr>\n",
       "      <th>Соколов</th>\n",
       "      <td>35183.50</td>\n",
       "    </tr>\n",
       "    <tr>\n",
       "      <th>Михайлов</th>\n",
       "      <td>4268.70</td>\n",
       "    </tr>\n",
       "  </tbody>\n",
       "</table>\n",
       "</div>"
      ],
      "text/plain": [
       "                  sum\n",
       "sale                 \n",
       "Смирнов     220672.00\n",
       "Петрова     149344.46\n",
       "Андреев     132646.30\n",
       "Иванов       94770.60\n",
       "Кузнецова    72228.40\n",
       "Филимонова   59514.47\n",
       "Васильев     49895.45\n",
       "Соколов      35183.50\n",
       "Михайлов      4268.70"
      ]
     },
     "execution_count": 213,
     "metadata": {},
     "output_type": "execute_result"
    }
   ],
   "source": [
    "data.query('month == \"Сентябрь 2021\"').groupby('sale').agg({'sum': 'sum'}).sort_values('sum', ascending=False)"
   ]
  },
  {
   "cell_type": "markdown",
   "id": "999ef46f",
   "metadata": {},
   "source": [
    "Больше всего денежных средств в сентябре 2021 привлек менеджер **Смирнов**"
   ]
  },
  {
   "cell_type": "markdown",
   "id": "44249d0c",
   "metadata": {},
   "source": [
    "4) Какой тип сделок (новая/текущая) был преобладающим в октябре 2021?"
   ]
  },
  {
   "cell_type": "code",
   "execution_count": 214,
   "id": "10adee75",
   "metadata": {},
   "outputs": [
    {
     "data": {
      "text/plain": [
       "new/current\n",
       "текущая    98\n",
       "новая      35\n",
       "Name: count, dtype: int64"
      ]
     },
     "execution_count": 214,
     "metadata": {},
     "output_type": "execute_result"
    }
   ],
   "source": [
    "data.query('month == \"Октябрь 2021\"')['new/current'].value_counts()"
   ]
  },
  {
   "cell_type": "markdown",
   "id": "adc88437",
   "metadata": {},
   "source": [
    "В октябре 2021 преобладали **текущие** сделки"
   ]
  },
  {
   "cell_type": "markdown",
   "id": "e214215a",
   "metadata": {},
   "source": [
    "5) Сколько оригиналов договора по майским сделкам было получено в июне 2021?"
   ]
  },
  {
   "cell_type": "code",
   "execution_count": 239,
   "id": "bd5d4f73",
   "metadata": {},
   "outputs": [
    {
     "name": "stdout",
     "output_type": "stream",
     "text": [
      "77 оригиналов договора по майским сделкам было получено в июне 2021\n"
     ]
    }
   ],
   "source": [
    "docs = data[(data.month == 'Май 2021') & (data.receiving_date.dt.month == 6) & (data.receiving_date.dt.year == 2021)].shape[0]\n",
    "print(f'{docs} оригиналов договора по майским сделкам было получено в июне 2021')"
   ]
  },
  {
   "cell_type": "markdown",
   "id": "203b09f3",
   "metadata": {},
   "source": [
    "## Задания"
   ]
  },
  {
   "cell_type": "markdown",
   "id": "18383922",
   "metadata": {},
   "source": [
    "За каждую заключенную сделку менеджер получает бонус, который рассчитывается\n",
    "следующим образом.\n",
    "1) За новые сделки менеджер получает 7 % от суммы, при условии, что статус оплаты «ОПЛАЧЕНО», а также имеется оригинал подписанного договора с клиентом (в рассматриваемом месяце).\n",
    "\n",
    "2) За текущие сделки менеджер получает 5 % от суммы, если она больше 10 тыс., и 3 % от суммы, если меньше. При этом статус оплаты может быть любым, кроме «ПРОСРОЧЕНО», а также необходимо наличие оригинала подписанного договора с клиентом (в рассматриваемом месяце).\n",
    "\n",
    "Бонусы по сделкам, оригиналы для которых приходят позже рассматриваемого месяца, считаются остатком на следующий период, который выплачивается по мере прихода оригиналов. Вычислите остаток каждого из менеджеров на 01.07.2021.\n",
    "\n",
    "Посчитаем бонус по каждой сделке"
   ]
  },
  {
   "cell_type": "code",
   "execution_count": 242,
   "id": "6662c52f",
   "metadata": {},
   "outputs": [],
   "source": [
    "def count_bonus(row):\n",
    "    if row.document == 'оригинал':\n",
    "        if (row['new/current'] == 'новая') and (row.status == 'ОПЛАЧЕНО'):\n",
    "            return row['sum'] * 0.07\n",
    "        elif (row['new/current'] == 'текущая') and (row.status != 'ПРОСРОЧЕНО'):\n",
    "            if row['sum'] > 10000:\n",
    "                return row['sum'] * 0.05\n",
    "            else:\n",
    "                return row['sum'] * 0.03\n",
    "        else:\n",
    "            return 0\n",
    "    else: \n",
    "        return 0\n",
    "    \n",
    "data['bonus'] = data.apply(count_bonus, axis=1)"
   ]
  },
  {
   "cell_type": "markdown",
   "id": "79d4d108",
   "metadata": {},
   "source": [
    "Чтобы посчитать остаток на 1 июля 2021 года, необходимо посмотреть, по каким сделкам, совершенным в мае и июне, договоры пришли позже 30 июня (так как остатки по договорам, которые пришли 1 июля будут выплачиваться уже в этом месяце, а значит тоже являются остатками)."
   ]
  },
  {
   "cell_type": "code",
   "execution_count": 252,
   "id": "af8f0994",
   "metadata": {},
   "outputs": [
    {
     "data": {
      "text/html": [
       "<div>\n",
       "<style scoped>\n",
       "    .dataframe tbody tr th:only-of-type {\n",
       "        vertical-align: middle;\n",
       "    }\n",
       "\n",
       "    .dataframe tbody tr th {\n",
       "        vertical-align: top;\n",
       "    }\n",
       "\n",
       "    .dataframe thead th {\n",
       "        text-align: right;\n",
       "    }\n",
       "</style>\n",
       "<table border=\"1\" class=\"dataframe\">\n",
       "  <thead>\n",
       "    <tr style=\"text-align: right;\">\n",
       "      <th></th>\n",
       "      <th>balance_july_1</th>\n",
       "    </tr>\n",
       "    <tr>\n",
       "      <th>sale</th>\n",
       "      <th></th>\n",
       "    </tr>\n",
       "  </thead>\n",
       "  <tbody>\n",
       "    <tr>\n",
       "      <th>Андреев</th>\n",
       "      <td>3855.9077</td>\n",
       "    </tr>\n",
       "    <tr>\n",
       "      <th>Васильев</th>\n",
       "      <td>953.8770</td>\n",
       "    </tr>\n",
       "    <tr>\n",
       "      <th>Иванов</th>\n",
       "      <td>5991.4520</td>\n",
       "    </tr>\n",
       "    <tr>\n",
       "      <th>Кузнецова</th>\n",
       "      <td>4496.9501</td>\n",
       "    </tr>\n",
       "    <tr>\n",
       "      <th>Петрова</th>\n",
       "      <td>10770.7474</td>\n",
       "    </tr>\n",
       "    <tr>\n",
       "      <th>Селиванов</th>\n",
       "      <td>5238.8540</td>\n",
       "    </tr>\n",
       "    <tr>\n",
       "      <th>Смирнов</th>\n",
       "      <td>6430.2650</td>\n",
       "    </tr>\n",
       "    <tr>\n",
       "      <th>Соколов</th>\n",
       "      <td>269.2110</td>\n",
       "    </tr>\n",
       "    <tr>\n",
       "      <th>Филимонова</th>\n",
       "      <td>2317.9579</td>\n",
       "    </tr>\n",
       "  </tbody>\n",
       "</table>\n",
       "</div>"
      ],
      "text/plain": [
       "            balance_july_1\n",
       "sale                      \n",
       "Андреев          3855.9077\n",
       "Васильев          953.8770\n",
       "Иванов           5991.4520\n",
       "Кузнецова        4496.9501\n",
       "Петрова         10770.7474\n",
       "Селиванов        5238.8540\n",
       "Смирнов          6430.2650\n",
       "Соколов           269.2110\n",
       "Филимонова       2317.9579"
      ]
     },
     "execution_count": 252,
     "metadata": {},
     "output_type": "execute_result"
    }
   ],
   "source": [
    "data.query('month.isin([\"Май 2021\", \"Июнь 2021\"]) and receiving_date > \"2021-06-30\"') \\\n",
    "    .groupby('sale').agg({'bonus': 'sum'}).rename(columns={'bonus': 'balance_july_1'})"
   ]
  }
 ],
 "metadata": {
  "kernelspec": {
   "display_name": "Python 3 (ipykernel)",
   "language": "python",
   "name": "python3"
  },
  "language_info": {
   "codemirror_mode": {
    "name": "ipython",
    "version": 3
   },
   "file_extension": ".py",
   "mimetype": "text/x-python",
   "name": "python",
   "nbconvert_exporter": "python",
   "pygments_lexer": "ipython3",
   "version": "3.8.5"
  }
 },
 "nbformat": 4,
 "nbformat_minor": 5
}
